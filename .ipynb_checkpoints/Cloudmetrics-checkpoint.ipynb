{
 "cells": [
  {
   "cell_type": "code",
   "execution_count": 1,
   "id": "83d8de6f",
   "metadata": {},
   "outputs": [],
   "source": [
    "import cloudmetrics\n",
    "import numpy as np\n",
    "import wradlib as wrl\n",
    "import xarray as xr\n",
    "import matplotlib.pyplot as plt\n",
    "import pandas as pd\n",
    "import datetime\n",
    "import matplotlib as mpl\n",
    "import glob\n",
    "import cv2\n",
    "import os\n",
    "import matplotlib.colors as mcolors\n",
    "import math\n",
    "import seaborn as sns"
   ]
  },
  {
   "cell_type": "code",
   "execution_count": 6,
   "id": "cb4eb3bc",
   "metadata": {},
   "outputs": [
    {
     "name": "stdout",
     "output_type": "stream",
     "text": [
      "<class 'numpy.ndarray'>\n",
      "0.5\n"
     ]
    }
   ],
   "source": [
    "arr = np.array([[0,1,1,0],\n",
    "      [0,1,1,0],\n",
    "      [0,1,1,0]])\n",
    "print(type(arr))\n",
    "print(cloudmetrics.mask.cloud_fraction(mask=arr))"
   ]
  },
  {
   "cell_type": "code",
   "execution_count": null,
   "id": "15a01e2f",
   "metadata": {},
   "outputs": [],
   "source": []
  }
 ],
 "metadata": {
  "kernelspec": {
   "display_name": "Python 3 (ipykernel)",
   "language": "python",
   "name": "python3"
  },
  "language_info": {
   "codemirror_mode": {
    "name": "ipython",
    "version": 3
   },
   "file_extension": ".py",
   "mimetype": "text/x-python",
   "name": "python",
   "nbconvert_exporter": "python",
   "pygments_lexer": "ipython3",
   "version": "3.9.13"
  }
 },
 "nbformat": 4,
 "nbformat_minor": 5
}
