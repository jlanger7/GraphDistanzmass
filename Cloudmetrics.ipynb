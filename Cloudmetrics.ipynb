{
 "cells": [
  {
   "cell_type": "code",
   "execution_count": 1,
   "id": "3e15f040",
   "metadata": {},
   "outputs": [],
   "source": [
    "import cloudmetrics\n",
    "import numpy as np\n",
    "import wradlib as wrl\n",
    "import xarray as xr\n",
    "import matplotlib.pyplot as plt\n",
    "import pandas as pd\n",
    "import datetime\n",
    "import matplotlib as mpl\n",
    "import glob\n",
    "import cv2\n",
    "import os\n",
    "import matplotlib.colors as mcolors\n",
    "import math\n",
    "import seaborn as sns"
   ]
  },
  {
   "cell_type": "code",
   "execution_count": 6,
   "id": "5cc01aa1",
   "metadata": {},
   "outputs": [
    {
     "name": "stdout",
     "output_type": "stream",
     "text": [
      "<class 'numpy.ndarray'>\n",
      "0.5\n"
     ]
    }
   ],
   "source": [
    "arr = np.array([[0,1,1,0],\n",
    "      [0,1,1,0],\n",
    "      [0,1,1,0]])\n",
    "print(type(arr))\n",
    "print(cloudmetrics.mask.cloud_fraction(mask=arr))"
   ]
  },
  {
   "cell_type": "code",
   "execution_count": 8,
   "id": "0a6a644d",
   "metadata": {},
   "outputs": [
    {
     "name": "stdout",
     "output_type": "stream",
     "text": [
      "Help on function orientation in module cloudmetrics.mask.orientation:\n",
      "\n",
      "orientation(mask, debug=False, periodic_domain=False)\n",
      "    Compute a measure for a single (cloud) mask's degree of directional alignment,\n",
      "    using the (cloud) mask's raw image moment covariance matrix.\n",
      "    \n",
      "    Code based on: https://github.com/alyssaq/blog/blob/master/posts/150114-054922_computing-the-axes-or-orientation-of-a-blob.md.\n",
      "    Note that this function currently does not support periodic boundary\n",
      "    conditions (use the wavelet-based orientation measure woi3 for such scenes).\n",
      "    \n",
      "    Parameters\n",
      "    ----------\n",
      "    mask : numpy array of shape (npx,npx) - npx is number of pixels\n",
      "           (cloud) mask field.\n",
      "    \n",
      "    Returns\n",
      "    -------\n",
      "    orie : float\n",
      "        Orientation measure (dimensionless value between 0-1, with 0 denoting\n",
      "        no preferential direction of orientation and 1 denoting that all\n",
      "        information is oriented in one direction)\n",
      "\n"
     ]
    }
   ],
   "source": [
    "help(cloudmetrics.mask.orientation)"
   ]
  },
  {
   "cell_type": "code",
   "execution_count": null,
   "id": "fac9e70e",
   "metadata": {},
   "outputs": [],
   "source": []
  }
 ],
 "metadata": {
  "kernelspec": {
   "display_name": "Python 3 (ipykernel)",
   "language": "python",
   "name": "python3"
  },
  "language_info": {
   "codemirror_mode": {
    "name": "ipython",
    "version": 3
   },
   "file_extension": ".py",
   "mimetype": "text/x-python",
   "name": "python",
   "nbconvert_exporter": "python",
   "pygments_lexer": "ipython3",
   "version": "3.9.13"
  }
 },
 "nbformat": 4,
 "nbformat_minor": 5
}
